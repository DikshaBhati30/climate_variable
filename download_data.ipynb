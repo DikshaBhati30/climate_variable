{
 "cells": [
  {
   "cell_type": "code",
   "execution_count": 5,
   "id": "869b7cbe",
   "metadata": {},
   "outputs": [
    {
     "name": "stderr",
     "output_type": "stream",
     "text": [
      "2025-07-30 15:46:42,687 INFO [2024-09-26T00:00:00] Watch our [Forum](https://forum.ecmwf.int/) for Announcements, news and other discussed topics.\n",
      "2025-07-30 15:46:43,103 INFO Request ID is 847905b8-566d-4894-8d49-8350fd7f1693\n",
      "2025-07-30 15:46:43,463 INFO status has been updated to accepted\n",
      "2025-07-30 15:46:52,484 INFO status has been updated to running\n",
      "2025-07-30 15:46:57,723 INFO status has been updated to successful\n",
      "                                                                                           \r"
     ]
    },
    {
     "data": {
      "text/plain": [
       "'reanalysis-era5-land/reanalysis-era5-land_1990_01.grib'"
      ]
     },
     "execution_count": 5,
     "metadata": {},
     "output_type": "execute_result"
    }
   ],
   "source": [
    "import cdsapi\n",
    "\n",
    "\n",
    "\n",
    "month = \"01\"\n",
    "year = \"1990\"\n",
    "dataset = \"reanalysis-era5-land\"\n",
    "\n",
    "\n",
    "request = {\n",
    "    \"variable\": [\"2m_temperature\"],\n",
    "    \"year\": year,\n",
    "    \"month\": month,\n",
    "    \"day\": [\n",
    "        \"01\", \"02\", \"03\",\n",
    "        \"04\", \"05\", \"06\",\n",
    "        \"07\", \"08\", \"09\",\n",
    "        \"10\", \"11\", \"12\",\n",
    "        \"13\", \"14\", \"15\",\n",
    "        \"16\", \"17\", \"18\",\n",
    "        \"19\", \"20\", \"21\",\n",
    "        \"22\", \"23\", \"24\",\n",
    "        \"25\", \"26\", \"27\",\n",
    "        \"28\", \"29\", \"30\",\n",
    "        \"31\"\n",
    "    ],\n",
    "    \"time\": [\n",
    "        \"00:00\", \"01:00\", \"02:00\",\n",
    "        \"03:00\", \"04:00\", \"05:00\",\n",
    "        \"06:00\", \"07:00\", \"08:00\",\n",
    "        \"09:00\", \"10:00\", \"11:00\",\n",
    "        \"12:00\", \"13:00\", \"14:00\",\n",
    "        \"15:00\", \"16:00\", \"17:00\",\n",
    "        \"18:00\", \"19:00\", \"20:00\",\n",
    "        \"21:00\", \"22:00\", \"23:00\"\n",
    "    ],\n",
    "    \"data_format\": \"grib\",\n",
    "    \"download_format\": \"unarchived\",\n",
    "    \"area\": [36.25, 75.5, 32.15, 80.75]\n",
    "}\n",
    "\n",
    "\n",
    "name_of_file = dataset + \"_\" + year + \"_\" + month + \".grib\"\n",
    "\n",
    "client = cdsapi.Client()\n",
    "client.retrieve(dataset, request, \"reanalysis-era5-land/\" + name_of_file)"
   ]
  },
  {
   "cell_type": "code",
   "execution_count": null,
   "id": "cb2164f8",
   "metadata": {},
   "outputs": [],
   "source": [
    "import cdsapi\n",
    "\n",
    "client = cdsapi.Client()\n",
    "\n",
    "years = [str(y) for y in range(1992, 2025)]\n",
    "months = [f\"{m:02d}\" for m in range(1, 13)]\n",
    "dataset = \"reanalysis-era5-land\"\n",
    "\n",
    "for year in years:\n",
    "    for month in months:\n",
    "        request = {\n",
    "            \"variable\": \"2m_temperature\",\n",
    "            \"year\": year,\n",
    "            \"month\": month,\n",
    "            \"day\": [\n",
    "                \"01\", \"02\", \"03\",\n",
    "                \"04\", \"05\", \"06\",\n",
    "                \"07\", \"08\", \"09\",\n",
    "                \"10\", \"11\", \"12\",\n",
    "                \"13\", \"14\", \"15\",\n",
    "                \"16\", \"17\", \"18\",\n",
    "                \"19\", \"20\", \"21\",\n",
    "                \"22\", \"23\", \"24\",\n",
    "                \"25\", \"26\", \"27\",\n",
    "                \"28\", \"29\", \"30\",\n",
    "                \"31\"\n",
    "            ],\n",
    "            \"time\": [\n",
    "                \"00:00\", \"01:00\", \"02:00\",\n",
    "                \"03:00\", \"04:00\", \"05:00\",\n",
    "                \"06:00\", \"07:00\", \"08:00\",\n",
    "                \"09:00\", \"10:00\", \"11:00\",\n",
    "                \"12:00\", \"13:00\", \"14:00\",\n",
    "                \"15:00\", \"16:00\", \"17:00\",\n",
    "                \"18:00\", \"19:00\", \"20:00\",\n",
    "                \"21:00\", \"22:00\", \"23:00\"\n",
    "            ],\n",
    "            \"data_format\": \"grib\",\n",
    "            \"download_format\": \"unarchived\",\n",
    "            \"area\": [36.25, 75.5, 32.15, 80.75]\n",
    "        }\n",
    "        name_of_file = dataset + \"_\" + year + \"_\" + month + \".grib\"\n",
    "        try:\n",
    "            client.retrieve(dataset, request, \"reanalysis-era5-land/\" + name_of_file)\n",
    "            print(f\"Downloaded {name_of_file}\")\n",
    "        except Exception as e:\n",
    "            print(f\"Error {year}-{month}: {e}\")\n"
   ]
  },
  {
   "cell_type": "code",
   "execution_count": null,
   "id": "21f9af33",
   "metadata": {},
   "outputs": [
    {
     "name": "stderr",
     "output_type": "stream",
     "text": [
      "2025-07-30 16:45:25,378 INFO Request ID is 4ba1ee59-a208-48c7-b0a4-11ec18947452\n",
      "2025-07-30 16:45:25,587 INFO status has been updated to accepted\n",
      "2025-07-30 16:45:47,576 WARNING Download format not supported for this dataset. Defaulting to zip.\n",
      "2025-07-30 16:45:47,578 INFO status has been updated to running\n",
      "2025-07-30 16:47:20,980 WARNING Download format not supported for this dataset. Defaulting to zip.\n",
      "2025-07-30 16:48:19,291 INFO status has been updated to successful\n",
      "                                                                                          \r"
     ]
    },
    {
     "name": "stdout",
     "output_type": "stream",
     "text": [
      "Downloaded sis-agrometeorological-indicators_1990_.grib\n"
     ]
    },
    {
     "name": "stderr",
     "output_type": "stream",
     "text": [
      "2025-07-30 16:48:26,324 INFO Request ID is 77a82787-5a69-4965-a139-78f35f2e1435\n",
      "2025-07-30 16:48:26,519 INFO status has been updated to accepted\n",
      "2025-07-30 16:48:35,504 WARNING Download format not supported for this dataset. Defaulting to zip.\n",
      "2025-07-30 16:48:35,504 INFO status has been updated to running\n"
     ]
    },
    {
     "ename": "KeyboardInterrupt",
     "evalue": "",
     "output_type": "error",
     "traceback": [
      "\u001b[31m---------------------------------------------------------------------------\u001b[39m",
      "\u001b[31mKeyboardInterrupt\u001b[39m                         Traceback (most recent call last)",
      "\u001b[36mCell\u001b[39m\u001b[36m \u001b[39m\u001b[32mIn[3]\u001b[39m\u001b[32m, line 36\u001b[39m\n\u001b[32m     34\u001b[39m name_of_file = dataset_1 + \u001b[33m\"\u001b[39m\u001b[33m_\u001b[39m\u001b[33m\"\u001b[39m + year + \u001b[33m\"\u001b[39m\u001b[33m_\u001b[39m\u001b[33m\"\u001b[39m  + \u001b[33m\"\u001b[39m\u001b[33m.grib\u001b[39m\u001b[33m\"\u001b[39m\n\u001b[32m     35\u001b[39m \u001b[38;5;28;01mtry\u001b[39;00m:\n\u001b[32m---> \u001b[39m\u001b[32m36\u001b[39m     \u001b[43mclient\u001b[49m\u001b[43m.\u001b[49m\u001b[43mretrieve\u001b[49m\u001b[43m(\u001b[49m\u001b[43mdataset_1\u001b[49m\u001b[43m,\u001b[49m\u001b[43m \u001b[49m\u001b[43mrequest\u001b[49m\u001b[43m,\u001b[49m\u001b[43m \u001b[49m\u001b[33;43m\"\u001b[39;49m\u001b[33;43msis-agrometeorological-indicators/\u001b[39;49m\u001b[33;43m\"\u001b[39;49m\u001b[43m \u001b[49m\u001b[43m+\u001b[49m\u001b[43m \u001b[49m\u001b[43mname_of_file\u001b[49m\u001b[43m)\u001b[49m\n\u001b[32m     37\u001b[39m     \u001b[38;5;28mprint\u001b[39m(\u001b[33mf\u001b[39m\u001b[33m\"\u001b[39m\u001b[33mDownloaded \u001b[39m\u001b[38;5;132;01m{\u001b[39;00mname_of_file\u001b[38;5;132;01m}\u001b[39;00m\u001b[33m\"\u001b[39m)\n\u001b[32m     38\u001b[39m \u001b[38;5;28;01mexcept\u001b[39;00m \u001b[38;5;167;01mException\u001b[39;00m \u001b[38;5;28;01mas\u001b[39;00m e:\n",
      "\u001b[36mFile \u001b[39m\u001b[32m~/phd_work/climate_variable/.venv/lib/python3.13/site-packages/ecmwf/datastores/legacy_client.py:167\u001b[39m, in \u001b[36mLegacyClient.retrieve\u001b[39m\u001b[34m(self, name, request, target)\u001b[39m\n\u001b[32m    165\u001b[39m submitted: datastores.Remote | datastores.Results\n\u001b[32m    166\u001b[39m \u001b[38;5;28;01mif\u001b[39;00m \u001b[38;5;28mself\u001b[39m.wait_until_complete:\n\u001b[32m--> \u001b[39m\u001b[32m167\u001b[39m     submitted = \u001b[38;5;28;43mself\u001b[39;49m\u001b[43m.\u001b[49m\u001b[43mclient\u001b[49m\u001b[43m.\u001b[49m\u001b[43msubmit_and_wait_on_results\u001b[49m\u001b[43m(\u001b[49m\n\u001b[32m    168\u001b[39m \u001b[43m        \u001b[49m\u001b[43mcollection_id\u001b[49m\u001b[43m=\u001b[49m\u001b[43mname\u001b[49m\u001b[43m,\u001b[49m\n\u001b[32m    169\u001b[39m \u001b[43m        \u001b[49m\u001b[43mrequest\u001b[49m\u001b[43m=\u001b[49m\u001b[43mrequest\u001b[49m\u001b[43m,\u001b[49m\n\u001b[32m    170\u001b[39m \u001b[43m    \u001b[49m\u001b[43m)\u001b[49m\n\u001b[32m    171\u001b[39m \u001b[38;5;28;01melse\u001b[39;00m:\n\u001b[32m    172\u001b[39m     submitted = \u001b[38;5;28mself\u001b[39m.client.submit(\n\u001b[32m    173\u001b[39m         collection_id=name,\n\u001b[32m    174\u001b[39m         request=request,\n\u001b[32m    175\u001b[39m     )\n",
      "\u001b[36mFile \u001b[39m\u001b[32m~/phd_work/climate_variable/.venv/lib/python3.13/site-packages/ecmwf/datastores/client.py:414\u001b[39m, in \u001b[36mClient.submit_and_wait_on_results\u001b[39m\u001b[34m(self, collection_id, request)\u001b[39m\n\u001b[32m    398\u001b[39m \u001b[38;5;28;01mdef\u001b[39;00m\u001b[38;5;250m \u001b[39m\u001b[34msubmit_and_wait_on_results\u001b[39m(\n\u001b[32m    399\u001b[39m     \u001b[38;5;28mself\u001b[39m, collection_id: \u001b[38;5;28mstr\u001b[39m, request: \u001b[38;5;28mdict\u001b[39m[\u001b[38;5;28mstr\u001b[39m, Any]\n\u001b[32m    400\u001b[39m ) -> datastores.Results:\n\u001b[32m    401\u001b[39m \u001b[38;5;250m    \u001b[39m\u001b[33;03m\"\"\"Submit a request and wait for the results to be ready.\u001b[39;00m\n\u001b[32m    402\u001b[39m \n\u001b[32m    403\u001b[39m \u001b[33;03m    Parameters\u001b[39;00m\n\u001b[32m   (...)\u001b[39m\u001b[32m    412\u001b[39m \u001b[33;03m    datastores.Results\u001b[39;00m\n\u001b[32m    413\u001b[39m \u001b[33;03m    \"\"\"\u001b[39;00m\n\u001b[32m--> \u001b[39m\u001b[32m414\u001b[39m     \u001b[38;5;28;01mreturn\u001b[39;00m \u001b[38;5;28;43mself\u001b[39;49m\u001b[43m.\u001b[49m\u001b[43m_retrieve_api\u001b[49m\u001b[43m.\u001b[49m\u001b[43msubmit\u001b[49m\u001b[43m(\u001b[49m\u001b[43mcollection_id\u001b[49m\u001b[43m,\u001b[49m\u001b[43m \u001b[49m\u001b[43mrequest\u001b[49m\u001b[43m)\u001b[49m\u001b[43m.\u001b[49m\u001b[43mget_results\u001b[49m\u001b[43m(\u001b[49m\u001b[43m)\u001b[49m\n",
      "\u001b[36mFile \u001b[39m\u001b[32m~/phd_work/climate_variable/.venv/lib/python3.13/site-packages/ecmwf/datastores/processing.py:495\u001b[39m, in \u001b[36mRemote.get_results\u001b[39m\u001b[34m(self)\u001b[39m\n\u001b[32m    488\u001b[39m \u001b[38;5;28;01mdef\u001b[39;00m\u001b[38;5;250m \u001b[39m\u001b[34mget_results\u001b[39m(\u001b[38;5;28mself\u001b[39m) -> Results:\n\u001b[32m    489\u001b[39m \u001b[38;5;250m    \u001b[39m\u001b[33;03m\"\"\"Retrieve results.\u001b[39;00m\n\u001b[32m    490\u001b[39m \n\u001b[32m    491\u001b[39m \u001b[33;03m    Returns\u001b[39;00m\n\u001b[32m    492\u001b[39m \u001b[33;03m    -------\u001b[39;00m\n\u001b[32m    493\u001b[39m \u001b[33;03m    datastores.Results\u001b[39;00m\n\u001b[32m    494\u001b[39m \u001b[33;03m    \"\"\"\u001b[39;00m\n\u001b[32m--> \u001b[39m\u001b[32m495\u001b[39m     \u001b[38;5;28;01mreturn\u001b[39;00m \u001b[38;5;28;43mself\u001b[39;49m\u001b[43m.\u001b[49m\u001b[43m_make_results\u001b[49m\u001b[43m(\u001b[49m\u001b[43mwait\u001b[49m\u001b[43m=\u001b[49m\u001b[38;5;28;43;01mTrue\u001b[39;49;00m\u001b[43m)\u001b[49m\n",
      "\u001b[36mFile \u001b[39m\u001b[32m~/phd_work/climate_variable/.venv/lib/python3.13/site-packages/ecmwf/datastores/processing.py:479\u001b[39m, in \u001b[36mRemote._make_results\u001b[39m\u001b[34m(self, wait)\u001b[39m\n\u001b[32m    477\u001b[39m \u001b[38;5;28;01mdef\u001b[39;00m\u001b[38;5;250m \u001b[39m\u001b[34m_make_results\u001b[39m(\u001b[38;5;28mself\u001b[39m, wait: \u001b[38;5;28mbool\u001b[39m) -> Results:\n\u001b[32m    478\u001b[39m     \u001b[38;5;28;01mif\u001b[39;00m wait:\n\u001b[32m--> \u001b[39m\u001b[32m479\u001b[39m         \u001b[38;5;28;43mself\u001b[39;49m\u001b[43m.\u001b[49m\u001b[43m_wait_on_results\u001b[49m\u001b[43m(\u001b[49m\u001b[43m)\u001b[49m\n\u001b[32m    480\u001b[39m     response = \u001b[38;5;28mself\u001b[39m._get_api_response(\u001b[33m\"\u001b[39m\u001b[33mget\u001b[39m\u001b[33m\"\u001b[39m)\n\u001b[32m    481\u001b[39m     \u001b[38;5;28;01mtry\u001b[39;00m:\n",
      "\u001b[36mFile \u001b[39m\u001b[32m~/phd_work/climate_variable/.venv/lib/python3.13/site-packages/ecmwf/datastores/processing.py:459\u001b[39m, in \u001b[36mRemote._wait_on_results\u001b[39m\u001b[34m(self)\u001b[39m\n\u001b[32m    457\u001b[39m \u001b[38;5;28;01mwhile\u001b[39;00m \u001b[38;5;129;01mnot\u001b[39;00m \u001b[38;5;28mself\u001b[39m.results_ready:\n\u001b[32m    458\u001b[39m     \u001b[38;5;28mself\u001b[39m.debug(\u001b[33mf\u001b[39m\u001b[33m\"\u001b[39m\u001b[33mresults not ready, waiting for \u001b[39m\u001b[38;5;132;01m{\u001b[39;00msleep\u001b[38;5;132;01m}\u001b[39;00m\u001b[33m seconds\u001b[39m\u001b[33m\"\u001b[39m)\n\u001b[32m--> \u001b[39m\u001b[32m459\u001b[39m     \u001b[43mtime\u001b[49m\u001b[43m.\u001b[49m\u001b[43msleep\u001b[49m\u001b[43m(\u001b[49m\u001b[43msleep\u001b[49m\u001b[43m)\u001b[49m\n\u001b[32m    460\u001b[39m     sleep = \u001b[38;5;28mmin\u001b[39m(sleep * \u001b[32m1.5\u001b[39m, \u001b[38;5;28mself\u001b[39m.sleep_max)\n",
      "\u001b[31mKeyboardInterrupt\u001b[39m: "
     ]
    }
   ],
   "source": [
    "import cdsapi\n",
    "years = [str(y) for y in range(1991, 2025)]\n",
    "dataset_1 = \"sis-agrometeorological-indicators\"\n",
    "\n",
    "\n",
    "for year in years:\n",
    "    request = {\n",
    "        \"variable\": \"reference_evapotranspiration\",\n",
    "        \"year\": year,\n",
    "        \"month\": [\n",
    "            \"01\", \"02\", \"03\",\n",
    "            \"04\", \"05\", \"06\",\n",
    "            \"07\", \"08\", \"09\",\n",
    "            \"10\", \"11\", \"12\"\n",
    "        ],\n",
    "        \"day\": [\n",
    "            \"01\", \"02\", \"03\",\n",
    "            \"04\", \"05\", \"06\",\n",
    "            \"07\", \"08\", \"09\",\n",
    "            \"10\", \"11\", \"12\",\n",
    "            \"13\", \"14\", \"15\",\n",
    "            \"16\", \"17\", \"18\",\n",
    "            \"19\", \"20\", \"21\",\n",
    "            \"22\", \"23\", \"24\",\n",
    "            \"25\", \"26\", \"27\",\n",
    "            \"28\", \"29\", \"30\",\n",
    "            \"31\"\n",
    "        ],\n",
    "        \"version\": \"2_0\",\n",
    "        \"data_format\": \"grib\",\n",
    "        \"download_format\": \"unarchived\",\n",
    "        \"area\": [36.25, 75.5, 32.15, 80.75]\n",
    "    }\n",
    "    name_of_file = dataset_1 + \"_\" + year + \"_\"  + \".zip\"\n",
    "    try:\n",
    "        client.retrieve(dataset_1, request, \"sis-agrometeorological-indicators/\" + name_of_file)\n",
    "        print(f\"Downloaded {name_of_file}\")\n",
    "    except Exception as e:\n",
    "        print(f\"Error {year}: {e}\")\n",
    "\n",
    "client = cdsapi.Client()\n",
    "client.retrieve(dataset, request).download()\n"
   ]
  },
  {
   "cell_type": "code",
   "execution_count": null,
   "id": "f6ffd77a",
   "metadata": {},
   "outputs": [],
   "source": []
  }
 ],
 "metadata": {
  "kernelspec": {
   "display_name": ".venv",
   "language": "python",
   "name": "python3"
  },
  "language_info": {
   "codemirror_mode": {
    "name": "ipython",
    "version": 3
   },
   "file_extension": ".py",
   "mimetype": "text/x-python",
   "name": "python",
   "nbconvert_exporter": "python",
   "pygments_lexer": "ipython3",
   "version": "3.13.3"
  }
 },
 "nbformat": 4,
 "nbformat_minor": 5
}
