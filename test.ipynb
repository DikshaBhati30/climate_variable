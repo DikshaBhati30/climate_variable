{
 "cells": [
  {
   "cell_type": "code",
   "execution_count": 5,
   "id": "6694a7e2",
   "metadata": {},
   "outputs": [
    {
     "name": "stderr",
     "output_type": "stream",
     "text": [
      "Ignoring index file '/Users/dikshabhati/phd_work/climate_variable/data/total_prec_1990_2025_one_dataPoint_per_day.grib.5b7b6.idx' incompatible with GRIB file\n",
      "/Users/dikshabhati/phd_work/climate_variable/.venv/lib/python3.13/site-packages/cfgrib/xarray_plugin.py:131: FutureWarning: In a future version, xarray will not decode timedelta values based on the presence of a timedelta-like units attribute by default. Instead it will rely on the presence of a timedelta64 dtype attribute, which is now xarray's default way of encoding timedelta64 values. To continue decoding timedeltas based on the presence of a timedelta-like units attribute, users will need to explicitly opt-in by passing True or CFTimedeltaCoder(decode_via_units=True) to decode_timedelta. To silence this warning, set decode_timedelta to True, False, or a 'CFTimedeltaCoder' instance.\n",
      "  vars, attrs, coord_names = xr.conventions.decode_cf_variables(\n"
     ]
    }
   ],
   "source": [
    "import xarray as xr\n",
    "\n",
    "file_name = '/Users/dikshabhati/phd_work/climate_variable/data/total_prec_1990_2025_one_dataPoint_per_day.grib'\n",
    "file_path = file_name\n",
    "ds = xr.open_dataset(file_path, engine='cfgrib')\n"
   ]
  },
  {
   "cell_type": "code",
   "execution_count": null,
   "id": "9af1e297",
   "metadata": {},
   "outputs": [
    {
     "name": "stdout",
     "output_type": "stream",
     "text": [
      "Data variables: ['tp']\n",
      "Coordinates: ['number', 'time', 'step', 'surface', 'latitude', 'longitude', 'valid_time']\n",
      "Dimensions: FrozenMappingWarningOnValuesAccess({'time': 12984, 'latitude': 17, 'longitude': 22})\n"
     ]
    }
   ],
   "source": [
    "print(f\"Data variables: {list(ds.data_vars.keys())}\")\n",
    "print(f\"Coordinates: {list(ds.coords.keys())}\")\n",
    "print(f\"Dimensions: {ds.dims}\")\n",
    "\n",
    "numpy_array_ds = ds.tp.values\n",
    "print(numpy_array_ds)\n"
   ]
  },
  {
   "cell_type": "code",
   "execution_count": null,
   "id": "7ce7910c",
   "metadata": {},
   "outputs": [],
   "source": [
    "## -> To make  the Mann-Kendall Test ?\n",
    "\n",
    "\n",
    "\n",
    "\n",
    "\n",
    "\n"
   ]
  }
 ],
 "metadata": {
  "kernelspec": {
   "display_name": ".venv",
   "language": "python",
   "name": "python3"
  },
  "language_info": {
   "codemirror_mode": {
    "name": "ipython",
    "version": 3
   },
   "file_extension": ".py",
   "mimetype": "text/x-python",
   "name": "python",
   "nbconvert_exporter": "python",
   "pygments_lexer": "ipython3",
   "version": "3.13.3"
  }
 },
 "nbformat": 4,
 "nbformat_minor": 5
}
